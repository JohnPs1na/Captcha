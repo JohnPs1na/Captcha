{
 "cells": [
  {
   "cell_type": "code",
   "execution_count": 12,
   "id": "cfb3da7a",
   "metadata": {},
   "outputs": [],
   "source": [
    "import cv2 as cv\n",
    "import numpy as np\n",
    "import string\n",
    "import os\n",
    "from copy import deepcopy\n",
    "from cairosvg import svg2png\n",
    "from wand.image import Image\n"
   ]
  },
  {
   "cell_type": "code",
   "execution_count": 13,
   "id": "10dc559f",
   "metadata": {},
   "outputs": [],
   "source": [
    "captcha_path = './../Generators/captchas/svg_captcha'\n",
    "images_path = '/images'\n",
    "labels_path = '/labels'\n",
    "letters_path = '/letters'\n",
    "\n",
    "images = []\n",
    "labels = []\n",
    "letters = []\n",
    "\n",
    "def get_data(directory):\n",
    "    result = []\n",
    "    for filename in os.listdir(directory):\n",
    "        f = os.path.join(directory,filename)\n",
    "        result.append(f)\n",
    "    result.sort()\n",
    "    return result\n",
    "\n",
    "def show_image(title,image):\n",
    "    cv.imshow(title,image)\n",
    "    cv.waitKey(0)\n",
    "    cv.destroyAllWindows()\n",
    "\n",
    "def show_image_negative(title,image):\n",
    "    image_n=cv.bitwise_not(image)\n",
    "    cv.imshow(title,image_n)\n",
    "    cv.waitKey(0)\n",
    "    cv.destroyAllWindows()\n",
    "\n",
    "image_files = get_data(captcha_path+images_path)\n",
    "label_files = get_data(captcha_path+labels_path)\n",
    "letter_files = get_data(captcha_path+letters_path)"
   ]
  },
  {
   "cell_type": "code",
   "execution_count": 14,
   "id": "98f8036b",
   "metadata": {},
   "outputs": [
    {
     "name": "stdout",
     "output_type": "stream",
     "text": [
      "Folder ./svg_formated already exists\n",
      "Folder ./let_formated already exists\n",
      "Folder ./let_cropped already exists\n"
     ]
    }
   ],
   "source": [
    "import os\n",
    "\n",
    "formated_svg_path = './svg_formated'\n",
    "formated_let_path = './let_formated'\n",
    "cropped_let_path = './let_cropped'\n",
    "\n",
    "def make_dir(dir_path):\n",
    "    # check whether directory already exists\n",
    "    if not os.path.exists(dir_path):\n",
    "      os.mkdir(dir_path)\n",
    "      print(\"Folder %s created!\" % dir_path)\n",
    "    else:\n",
    "      print(\"Folder %s already exists\" % dir_path)\n",
    "    \n",
    "make_dir(formated_svg_path)\n",
    "make_dir(formated_let_path)\n",
    "make_dir(cropped_let_path)\n",
    "\n",
    "for idx in range(len(image_files)):\n",
    "    fn = image_files[idx]\n",
    "    ny = Image(filename = fn)\n",
    "    fn = fn[:-4]\n",
    "    ny_convert = ny.convert('png')\n",
    "    ny_convert.save(filename = f'./{formated_svg_path}/{fn.rsplit(\"/\", 1)[-1]}.png')\n",
    "\n",
    "for idx in range(len(letter_files)):\n",
    "    fn = letter_files[idx]\n",
    "    ny = Image(filename = fn)\n",
    "    fn = fn[:-4]\n",
    "    ny_convert = ny.convert('png')\n",
    "    ny_convert.save(filename = f'./{formated_let_path}/{fn.rsplit(\"/\", 1)[-1]}.png')"
   ]
  },
  {
   "cell_type": "code",
   "execution_count": null,
   "id": "bf35fcf9",
   "metadata": {},
   "outputs": [],
   "source": []
  }
 ],
 "metadata": {
  "kernelspec": {
   "display_name": "Python 3 (ipykernel)",
   "language": "python",
   "name": "python3"
  },
  "language_info": {
   "codemirror_mode": {
    "name": "ipython",
    "version": 3
   },
   "file_extension": ".py",
   "mimetype": "text/x-python",
   "name": "python",
   "nbconvert_exporter": "python",
   "pygments_lexer": "ipython3",
   "version": "3.11.2"
  }
 },
 "nbformat": 4,
 "nbformat_minor": 5
}
