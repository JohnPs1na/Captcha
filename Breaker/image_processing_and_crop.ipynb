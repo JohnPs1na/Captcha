{
 "cells": [
  {
   "cell_type": "code",
   "execution_count": 3,
   "id": "0e2037dd",
   "metadata": {},
   "outputs": [],
   "source": [
    "import cv2\n",
    "import cv2 as cv\n",
    "import numpy as np\n",
    "import string\n",
    "import os\n",
    "from copy import deepcopy"
   ]
  },
  {
   "cell_type": "code",
   "execution_count": 10,
   "id": "c39ea92b",
   "metadata": {},
   "outputs": [],
   "source": [
    "def show_image(title,image):\n",
    "    cv.imshow(title,image)\n",
    "    cv.waitKey(0)\n",
    "    cv.destroyAllWindows()\n",
    "\n",
    "def invert_image(image):\n",
    "    return cv.bitwise_not(image)\n",
    "\n",
    "\n",
    "img = cv.imread('./svg_formated/0.png')\n",
    "\n",
    "def preprocess_image(img):\n",
    "    gray = cv.cvtColor(img,cv.COLOR_BGR2GRAY)\n",
    "    \n",
    "    # otsu threshold\n",
    "    thresh_min = cv.threshold(gray, 1, 255, cv.THRESH_BINARY|cv.THRESH_OTSU)[1]\n",
    "    \n",
    "    thresh = cv.threshold(gray, 0, 255, cv.THRESH_BINARY_INV|cv.THRESH_OTSU)[1]\n",
    "    \n",
    "    kernel = cv.getStructuringElement(cv.MORPH_RECT, (3,8))\n",
    "    morph_img = cv.morphologyEx(thresh, cv.MORPH_CLOSE, kernel)\n",
    "    \n",
    "    kernel = np.ones((2, 2), np.uint8)\n",
    "    morph_img = cv.erode(morph_img, kernel)\n",
    "    \n",
    "    kernel = np.ones((4, 4), np.uint8)\n",
    "    morph_img = cv.dilate(morph_img, kernel)\n",
    "    \n",
    "    image1 = morph_img.tolist()\n",
    "    image2 = thresh_min.tolist()\n",
    "    \n",
    "    my_img = [[0 for i in range(len(x))] for x in image1]\n",
    "    \n",
    "    for i in range(len(image1)):\n",
    "        for j in range(len(image1[0])):\n",
    "\n",
    "            my_img[i][j] = max(0,image1[i][j] - image2[i][j])\n",
    "    \n",
    "    \n",
    "    my_img = np.array(my_img)\n",
    "    my_img = my_img.astype(np.uint8)\n",
    "    \n",
    "    return invert_image(my_img)\n",
    "\n",
    "image_without_noise = preprocess_image(img)\n",
    "\n",
    "\n"
   ]
  },
  {
   "cell_type": "code",
   "execution_count": null,
   "id": "1b2b732c",
   "metadata": {},
   "outputs": [],
   "source": [
    "show_image(\"img\",image_without_noise)"
   ]
  },
  {
   "cell_type": "code",
   "execution_count": null,
   "id": "f172c102",
   "metadata": {},
   "outputs": [],
   "source": []
  }
 ],
 "metadata": {
  "kernelspec": {
   "display_name": "Python 3 (ipykernel)",
   "language": "python",
   "name": "python3"
  },
  "language_info": {
   "codemirror_mode": {
    "name": "ipython",
    "version": 3
   },
   "file_extension": ".py",
   "mimetype": "text/x-python",
   "name": "python",
   "nbconvert_exporter": "python",
   "pygments_lexer": "ipython3",
   "version": "3.11.2"
  }
 },
 "nbformat": 4,
 "nbformat_minor": 5
}
