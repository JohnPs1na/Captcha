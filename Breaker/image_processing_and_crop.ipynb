{
 "cells": [
  {
   "cell_type": "code",
   "execution_count": 65,
   "id": "0e2037dd",
   "metadata": {},
   "outputs": [],
   "source": [
    "import cv2\n",
    "import cv2 as cv\n",
    "import numpy as np\n",
    "import string\n",
    "import os\n",
    "from copy import deepcopy\n"
   ]
  },
  {
   "cell_type": "code",
   "execution_count": 66,
   "id": "b0ea839f",
   "metadata": {},
   "outputs": [],
   "source": [
    "RESIZE_CONSTANT=(80,100)"
   ]
  },
  {
   "cell_type": "code",
   "execution_count": 67,
   "id": "c39ea92b",
   "metadata": {},
   "outputs": [],
   "source": [
    "def show_image(title,image):\n",
    "    cv.imshow(title,image)\n",
    "    cv.waitKey(0)\n",
    "    cv.destroyAllWindows()\n",
    "\n",
    "def invert_image(image):\n",
    "    return cv.bitwise_not(image)\n",
    "\n",
    "img = cv.imread('./svg_formated/02yy.png')\n",
    "\n",
    "def preprocess_image(img):\n",
    "    gray = cv.cvtColor(img,cv.COLOR_BGR2GRAY)\n",
    "    \n",
    "    thresh_min = cv.threshold(invert_image(gray), 1, 255, cv.THRESH_BINARY)[1]\n",
    "    \n",
    "    thresh_min = invert_image(thresh_min)\n",
    "    thresh = cv.threshold(gray,1, 255, cv.THRESH_BINARY_INV|cv.THRESH_OTSU)[1]\n",
    "    \n",
    "    kernel = cv.getStructuringElement(cv.MORPH_RECT, (3,8))\n",
    "    morph_img = cv.morphologyEx(thresh, cv.MORPH_CLOSE, kernel)\n",
    "    \n",
    "    kernel = np.ones((2, 2), np.uint8)\n",
    "    morph_img = cv.erode(morph_img, kernel)\n",
    "    \n",
    "    kernel = np.ones((5, 5), np.uint8)\n",
    "    morph_img = cv.dilate(morph_img, kernel)\n",
    "\n",
    "    image1 = morph_img.tolist()\n",
    "    image2 = thresh_min.tolist()\n",
    "    \n",
    "    my_img = [[0 for i in range(len(x))] for x in image1]\n",
    "    \n",
    "    for i in range(len(image1)):\n",
    "        for j in range(len(image1[0])):\n",
    "            my_img[i][j] = max(0,image1[i][j] - image2[i][j])\n",
    "    \n",
    "    \n",
    "    my_img = np.array(my_img)\n",
    "    my_img = my_img.astype(np.uint8)\n",
    "    \n",
    "    return my_img\n",
    "\n",
    "def get_data(directory):\n",
    "    result = []\n",
    "    for filename in os.listdir(directory):\n",
    "        f = os.path.join(directory,filename)\n",
    "        result.append(f)\n",
    "    result.sort()\n",
    "    return result\n",
    "\n",
    "\n",
    "def contours_to_rectangles(contours):\n",
    "    letter_image_regions = []\n",
    "    for contour in contours:\n",
    "        (x,y,w,h) = cv2.boundingRect(contour)\n",
    "        if w*h < 200:\n",
    "            continue\n",
    "        \n",
    "        letter_image_regions.append((x,y,w,h))\n",
    "        \n",
    "    return letter_image_regions\n",
    "\n",
    "image_without_noise = preprocess_image(img)\n",
    "show_image(\"img\",image_without_noise)"
   ]
  },
  {
   "cell_type": "code",
   "execution_count": 68,
   "id": "f172c102",
   "metadata": {},
   "outputs": [],
   "source": [
    "img = cv.imread('./svg_formated/02yy.png')\n",
    "image_without_noise = preprocess_image(img)\n",
    "\n",
    "contours = cv2.findContours(image_without_noise.copy(),cv.RETR_EXTERNAL,cv.CHAIN_APPROX_SIMPLE)[0]\n",
    "letter_image_regions = contours_to_rectangles(contours)\n",
    "\n",
    "\n",
    "for rect in letter_image_regions:\n",
    "    x1,y1,x2,y2 = rect\n",
    "    cv.rectangle(img,rect,(123,0,0),1)\n",
    "show_image(\"img\",img)\n",
    "\n",
    "    "
   ]
  },
  {
   "cell_type": "code",
   "execution_count": 69,
   "id": "2a522106",
   "metadata": {},
   "outputs": [],
   "source": [
    "#extract letters\n",
    "ch_path = './let_formated'\n",
    "ch_files = get_data(ch_path)\n",
    "crop_path = './let_cropped/'\n",
    "\n",
    "for ch_file in ch_files:\n",
    "    ch_img = cv.imread(ch_file)\n",
    "    \n",
    "    ch_preprocessed = preprocess_image(ch_img)\n",
    "    \n",
    "    contours = cv.findContours(ch_preprocessed.copy(),cv.RETR_EXTERNAL,cv.CHAIN_APPROX_SIMPLE)[0]\n",
    "    \n",
    "    ch_image_regions = contours_to_rectangles(contours)\n",
    "    \n",
    "    for rect in ch_image_regions:\n",
    "        x,y,w,h = rect\n",
    "        ch_cropped = ch_img[y-5:y+5+h,x-5:x+5+w]\n",
    "        ch_cropped = cv.resize(ch_cropped,RESIZE_CONSTANT)\n",
    "        cv.imwrite(crop_path+ch_file[-5:], ch_cropped)\n"
   ]
  },
  {
   "cell_type": "code",
   "execution_count": 70,
   "id": "1b43bee3",
   "metadata": {},
   "outputs": [
    {
     "ename": "error",
     "evalue": "OpenCV(4.7.0) /io/opencv/modules/imgproc/src/resize.cpp:4062: error: (-215:Assertion failed) !ssize.empty() in function 'resize'\n",
     "output_type": "error",
     "traceback": [
      "\u001b[0;31m---------------------------------------------------------------------------\u001b[0m",
      "\u001b[0;31merror\u001b[0m                                     Traceback (most recent call last)",
      "Cell \u001b[0;32mIn [70], line 63\u001b[0m\n\u001b[1;32m     60\u001b[0m x,y,w,h \u001b[38;5;241m=\u001b[39m rect\n\u001b[1;32m     61\u001b[0m character \u001b[38;5;241m=\u001b[39m captcha[y\u001b[38;5;241m-\u001b[39m\u001b[38;5;241m5\u001b[39m:y\u001b[38;5;241m+\u001b[39m\u001b[38;5;241m5\u001b[39m\u001b[38;5;241m+\u001b[39mh,x\u001b[38;5;241m-\u001b[39m\u001b[38;5;241m5\u001b[39m:x\u001b[38;5;241m+\u001b[39m\u001b[38;5;241m5\u001b[39m\u001b[38;5;241m+\u001b[39mw]\n\u001b[0;32m---> 63\u001b[0m character \u001b[38;5;241m=\u001b[39m \u001b[43mcv\u001b[49m\u001b[38;5;241;43m.\u001b[39;49m\u001b[43mresize\u001b[49m\u001b[43m(\u001b[49m\u001b[43mcharacter\u001b[49m\u001b[43m,\u001b[49m\u001b[43mRESIZE_CONSTANT\u001b[49m\u001b[43m)\u001b[49m\n\u001b[1;32m     65\u001b[0m x \u001b[38;5;241m=\u001b[39m classify_letter(character)\n\u001b[1;32m     66\u001b[0m label\u001b[38;5;241m+\u001b[39m\u001b[38;5;241m=\u001b[39mx\n",
      "\u001b[0;31merror\u001b[0m: OpenCV(4.7.0) /io/opencv/modules/imgproc/src/resize.cpp:4062: error: (-215:Assertion failed) !ssize.empty() in function 'resize'\n"
     ]
    }
   ],
   "source": [
    "def classify_letter(patch):\n",
    "    \n",
    "    def transform_image(img):\n",
    "        gray = cv.cvtColor(img,cv.COLOR_BGR2GRAY)\n",
    "\n",
    "        thresh = cv.threshold(gray,1, 255, cv.THRESH_BINARY_INV|cv.THRESH_OTSU)[1]\n",
    "\n",
    "        kernel = cv.getStructuringElement(cv.MORPH_RECT, (4,8))\n",
    "        morph_img = cv.morphologyEx(thresh, cv.MORPH_CLOSE, kernel)\n",
    "        \n",
    "        kernel = np.ones((3, 3), np.uint8)\n",
    "        morph_img = cv.erode(morph_img, kernel)\n",
    "        \n",
    "        return morph_img\n",
    "    \n",
    "\n",
    "    maxi = -np.inf\n",
    "    rez = ''\n",
    "    \n",
    "    \n",
    "    patch_sharpened = transform_image(patch)\n",
    "    \n",
    "    for filename in os.listdir(crop_path):\n",
    "        if filename[-3:] == 'png':\n",
    "            lt = cv.imread(crop_path+filename)\n",
    "            lt_sharpened = transform_image(lt)\n",
    "            corr = cv.matchTemplate(patch_sharpened,lt_sharpened[5:-5,5:-5],cv.TM_CCOEFF_NORMED)\n",
    "            corr = np.max(corr)\n",
    "            if corr > maxi:\n",
    "                maxi = corr\n",
    "                rez = filename[:-4]\n",
    "    return rez\n",
    "\n",
    "#classify captchas\n",
    "captcha_path = './svg_formated'\n",
    "captcha_files = get_data(captcha_path)\n",
    "\n",
    "def cmp(x):\n",
    "    return x[0]\n",
    "\n",
    "true_labels = []\n",
    "predicted_labels = []\n",
    "\n",
    "for captcha_file in captcha_files:\n",
    "    \n",
    "    true_label = captcha_file[-8:-4]\n",
    "    true_labels.append(true_label)\n",
    "        \n",
    "    captcha = cv.imread(captcha_file)\n",
    "    \n",
    "    captcha_preprocessed = preprocess_image(captcha)\n",
    "    \n",
    "    contours = cv.findContours(captcha_preprocessed.copy(),cv.RETR_EXTERNAL,cv.CHAIN_APPROX_SIMPLE)[0]\n",
    "    \n",
    "    captcha_image_regions = contours_to_rectangles(contours)\n",
    "    captcha_image_regions.sort(key=cmp)\n",
    "    \n",
    "    label = ''\n",
    "    for rect in captcha_image_regions:\n",
    "        x,y,w,h = rect\n",
    "        character = captcha[y-5:y+5+h,x-5:x+5+w]\n",
    "        \n",
    "        character = cv.resize(character,RESIZE_CONSTANT)\n",
    "        \n",
    "        x = classify_letter(character)\n",
    "        label+=x\n",
    "    \n",
    "    predicted_labels.append(label)\n"
   ]
  },
  {
   "cell_type": "code",
   "execution_count": 71,
   "id": "94081454",
   "metadata": {},
   "outputs": [
    {
     "name": "stdout",
     "output_type": "stream",
     "text": [
      "['e2yy', 'eCqV', '2DAY', '2s1V', '3aaa', '44', '4fvb', '4w1E', '5FTx', '6Q4w', '6zhm', 'smIw', '9Xux', '9nGb', 'BQX', 'Cm8', 'DkRN', 'DqlY', 'EHQ', 'FPhy', 'Fdej', 'FlfK', 'G8ZN', 'mFB', 'GdF9', 'H683', 'NeJ2', 'Npyu', 'MvnJ', 'lJu6', 'ITBV', 'lX8R', 'leDr', 'JkQ', 'HR', 'KSbr', 'K5k', 'Mfje', 'KJb', 'NLGE', 'eV', 'NcT3', 'NpiV', 'O2eU', 'ONCy', 'Ohmf', 'P4hh']\n",
      "['02yy', '0CqV', '2DAY', '2o1v', '3aaa', '4HMB', '4fvb', '4w1E', '5FTx', '6Q4w', '6zhm', '8miw', '9Xux', '9nGb', 'BZkX', 'Cxw8', 'DkRN', 'DqlY', 'EHXG', 'FPhy', 'Fdej', 'FlfK', 'G8ZN', 'GHFB', 'GdF9', 'H683', 'HeJ2', 'Hpyu', 'HvnJ', 'IJu6', 'ITBV', 'IX8R', 'IeDr', 'JkEV', 'KNYR', 'KSbr', 'M45k', 'Mfjh', 'MnJb', 'NLGE', 'NMzV', 'Ncr3', 'NpiV', 'O2eU', 'ONCy', 'Ohmf', 'P4hh', 'PE1i']\n"
     ]
    }
   ],
   "source": [
    "print(predicted_labels)\n",
    "print(true_labels)"
   ]
  },
  {
   "cell_type": "code",
   "execution_count": 72,
   "id": "2fe3b4d4",
   "metadata": {},
   "outputs": [
    {
     "name": "stdout",
     "output_type": "stream",
     "text": [
      "0.5319148936170213\n"
     ]
    }
   ],
   "source": [
    "print(sum([1 for i in range(len(predicted_labels)) if predicted_labels[i] == true_labels[i]]) / len(predicted_labels))"
   ]
  },
  {
   "cell_type": "code",
   "execution_count": null,
   "id": "1e08485f",
   "metadata": {},
   "outputs": [],
   "source": []
  }
 ],
 "metadata": {
  "kernelspec": {
   "display_name": "Python 3 (ipykernel)",
   "language": "python",
   "name": "python3"
  },
  "language_info": {
   "codemirror_mode": {
    "name": "ipython",
    "version": 3
   },
   "file_extension": ".py",
   "mimetype": "text/x-python",
   "name": "python",
   "nbconvert_exporter": "python",
   "pygments_lexer": "ipython3",
   "version": "3.11.2"
  }
 },
 "nbformat": 4,
 "nbformat_minor": 5
}
