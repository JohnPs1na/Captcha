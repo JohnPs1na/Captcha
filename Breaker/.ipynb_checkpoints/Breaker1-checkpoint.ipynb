{
 "cells": [
  {
   "cell_type": "code",
   "execution_count": 1,
   "id": "cfb3da7a",
   "metadata": {},
   "outputs": [],
   "source": [
    "import cv2 as cv\n",
    "import numpy as np\n",
    "import string\n",
    "import os\n",
    "from copy import deepcopy\n",
    "from cairosvg import svg2png\n",
    "from wand.image import Image\n"
   ]
  },
  {
   "cell_type": "code",
   "execution_count": 2,
   "id": "10dc559f",
   "metadata": {},
   "outputs": [],
   "source": [
    "captcha_path = './../Generators/captchas/svg_captcha'\n",
    "images_path = '/images'\n",
    "labels_path = '/labels'\n",
    "letters_path = '/letters'\n",
    "\n",
    "images = []\n",
    "labels = []\n",
    "letters = []\n",
    "\n",
    "def get_data(directory):\n",
    "    result = []\n",
    "    for filename in os.listdir(directory):\n",
    "        f = os.path.join(directory,filename)\n",
    "        result.append(f)\n",
    "    result.sort()\n",
    "    return result\n",
    "\n",
    "def show_image(title,image):\n",
    "    cv.imshow(title,image)\n",
    "    cv.waitKey(0)\n",
    "    cv.destroyAllWindows()\n",
    "\n",
    "def show_image_negative(title,image):\n",
    "    image_n=cv.bitwise_not(image)\n",
    "    cv.imshow(title,image_n)\n",
    "    cv.waitKey(0)\n",
    "    cv.destroyAllWindows()\n",
    "\n",
    "image_files = get_data(captcha_path+images_path)\n",
    "label_files = get_data(captcha_path+labels_path)\n",
    "letter_files = get_data(captcha_path+letters_path)"
   ]
  },
  {
   "cell_type": "code",
   "execution_count": 8,
   "id": "98f8036b",
   "metadata": {},
   "outputs": [
    {
     "name": "stdout",
     "output_type": "stream",
     "text": [
      "Folder ./svg_formated created!\n",
      "Folder ./let_formated created!\n"
     ]
    }
   ],
   "source": [
    "import os\n",
    "\n",
    "formated_svg_path = './svg_formated'\n",
    "formated_let_path = './let_formated'\n",
    "\n",
    "def make_dir(dir_path):\n",
    "    # check whether directory already exists\n",
    "    if not os.path.exists(dir_path):\n",
    "      os.mkdir(dir_path)\n",
    "      print(\"Folder %s created!\" % dir_path)\n",
    "    else:\n",
    "      print(\"Folder %s already exists\" % dir_path)\n",
    "    \n",
    "make_dir(formated_svg_path)\n",
    "make_dir(formated_let_path)\n",
    "\n",
    "\n",
    "for idx in range(len(image_files)):\n",
    "    fn = image_files[idx]\n",
    "    ny = Image(filename = fn)\n",
    "    ny_convert = ny.convert('png')\n",
    "    ny_convert.save(filename = f'./{formated_svg_path}/{fn.rsplit(\"/\", 1)[-1]}.png')\n",
    "\n",
    "for idx in range(len(letter_files)):\n",
    "    fn = letter_files[idx]\n",
    "    ny = Image(filename = fn)\n",
    "    ny_convert = ny.convert('png')\n",
    "    ny_convert.save(filename = f'./{formated_let_path}/{fn.rsplit(\"/\", 1)[-1]}.png')"
   ]
  },
  {
   "cell_type": "code",
   "execution_count": 10,
   "id": "2f339e26",
   "metadata": {},
   "outputs": [
    {
     "name": "stderr",
     "output_type": "stream",
     "text": [
      "[ WARN:0@397.840] global loadsave.cpp:244 findDecoder imread_('./let_formated/a.png'): can't open/read file: check file path/integrity\n"
     ]
    },
    {
     "ename": "error",
     "evalue": "OpenCV(4.7.0) /io/opencv/modules/imgproc/src/median_blur.dispatch.cpp:283: error: (-215:Assertion failed) !_src0.empty() in function 'medianBlur'\n",
     "output_type": "error",
     "traceback": [
      "\u001b[0;31m---------------------------------------------------------------------------\u001b[0m",
      "\u001b[0;31merror\u001b[0m                                     Traceback (most recent call last)",
      "Cell \u001b[0;32mIn [10], line 11\u001b[0m\n\u001b[1;32m      8\u001b[0m     _,thresh \u001b[38;5;241m=\u001b[39m cv\u001b[38;5;241m.\u001b[39mthreshold(image_sharpened,\u001b[38;5;241m10\u001b[39m,\u001b[38;5;241m255\u001b[39m,cv\u001b[38;5;241m.\u001b[39mTHRESH_BINARY)\n\u001b[1;32m      9\u001b[0m     \u001b[38;5;28;01mreturn\u001b[39;00m thresh\n\u001b[0;32m---> 11\u001b[0m show_image(\u001b[38;5;124m\"\u001b[39m\u001b[38;5;124mimg\u001b[39m\u001b[38;5;124m\"\u001b[39m,\u001b[43mpreprocess_image\u001b[49m\u001b[43m(\u001b[49m\u001b[43mimg\u001b[49m\u001b[43m)\u001b[49m) \n",
      "Cell \u001b[0;32mIn [10], line 4\u001b[0m, in \u001b[0;36mpreprocess_image\u001b[0;34m(img)\u001b[0m\n\u001b[1;32m      3\u001b[0m \u001b[38;5;28;01mdef\u001b[39;00m \u001b[38;5;21mpreprocess_image\u001b[39m(img):\n\u001b[0;32m----> 4\u001b[0m     image_m_blur \u001b[38;5;241m=\u001b[39m \u001b[43mcv\u001b[49m\u001b[38;5;241;43m.\u001b[39;49m\u001b[43mmedianBlur\u001b[49m\u001b[43m(\u001b[49m\u001b[43mimg\u001b[49m\u001b[43m,\u001b[49m\u001b[38;5;241;43m1\u001b[39;49m\u001b[43m)\u001b[49m\n\u001b[1;32m      5\u001b[0m     image_g_blur \u001b[38;5;241m=\u001b[39m cv\u001b[38;5;241m.\u001b[39mGaussianBlur(image_m_blur,(\u001b[38;5;241m0\u001b[39m,\u001b[38;5;241m0\u001b[39m),\u001b[38;5;241m30\u001b[39m)\n\u001b[1;32m      6\u001b[0m     image_sharpened \u001b[38;5;241m=\u001b[39m cv\u001b[38;5;241m.\u001b[39maddWeighted(image_m_blur,\u001b[38;5;241m1.2\u001b[39m,image_g_blur,\u001b[38;5;241m-\u001b[39m\u001b[38;5;241m0.7\u001b[39m,\u001b[38;5;241m0\u001b[39m)\n",
      "\u001b[0;31merror\u001b[0m: OpenCV(4.7.0) /io/opencv/modules/imgproc/src/median_blur.dispatch.cpp:283: error: (-215:Assertion failed) !_src0.empty() in function 'medianBlur'\n"
     ]
    }
   ],
   "source": [
    "img = cv.imread('./let_formated/a.txt.png')\n",
    "\n",
    "def preprocess_image(img):\n",
    "    image_m_blur = cv.medianBlur(img,1)\n",
    "    image_g_blur = cv.GaussianBlur(image_m_blur,(0,0),30)\n",
    "    image_sharpened = cv.addWeighted(image_m_blur,1.2,image_g_blur,-0.7,0)\n",
    "\n",
    "    _,thresh = cv.threshold(image_sharpened,10,255,cv.THRESH_BINARY)\n",
    "    return thresh\n",
    "\n",
    "show_image(\"img\",preprocess_image(img)) "
   ]
  },
  {
   "cell_type": "code",
   "execution_count": null,
   "id": "e61c6d88",
   "metadata": {},
   "outputs": [],
   "source": []
  }
 ],
 "metadata": {
  "kernelspec": {
   "display_name": "Python 3 (ipykernel)",
   "language": "python",
   "name": "python3"
  },
  "language_info": {
   "codemirror_mode": {
    "name": "ipython",
    "version": 3
   },
   "file_extension": ".py",
   "mimetype": "text/x-python",
   "name": "python",
   "nbconvert_exporter": "python",
   "pygments_lexer": "ipython3",
   "version": "3.11.2"
  }
 },
 "nbformat": 4,
 "nbformat_minor": 5
}
